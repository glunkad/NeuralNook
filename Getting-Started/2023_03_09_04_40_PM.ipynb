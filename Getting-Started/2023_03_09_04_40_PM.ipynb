{
  "nbformat": 4,
  "nbformat_minor": 0,
  "metadata": {
    "colab": {
      "provenance": []
    },
    "kernelspec": {
      "name": "python3",
      "display_name": "Python 3"
    },
    "language_info": {
      "name": "python"
    },
    "accelerator": "GPU",
    "gpuClass": "standard"
  },
  "cells": [
    {
      "cell_type": "code",
      "execution_count": 1,
      "metadata": {
        "id": "D8RmE62zdcqS"
      },
      "outputs": [],
      "source": [
        "name='p2'\n",
        "repo='NeuralNook'"
      ]
    },
    {
      "cell_type": "code",
      "source": [
        "!pip install -q duckduckgo_search"
      ],
      "metadata": {
        "colab": {
          "base_uri": "https://localhost:8080/"
        },
        "id": "aJ2BD-L2gJCS",
        "outputId": "7f4716fd-eee7-4a3e-f244-3bfecffd8141"
      },
      "execution_count": 2,
      "outputs": [
        {
          "output_type": "stream",
          "name": "stdout",
          "text": [
            "\u001b[2K     \u001b[90m━━━━━━━━━━━━━━━━━━━━━━━━━━━━━━━━━━━━━━━━\u001b[0m \u001b[32m62.8/62.8 KB\u001b[0m \u001b[31m4.9 MB/s\u001b[0m eta \u001b[36m0:00:00\u001b[0m\n",
            "\u001b[2K     \u001b[90m━━━━━━━━━━━━━━━━━━━━━━━━━━━━━━━━━━━━━━\u001b[0m \u001b[32m199.2/199.2 KB\u001b[0m \u001b[31m18.7 MB/s\u001b[0m eta \u001b[36m0:00:00\u001b[0m\n",
            "\u001b[?25h"
          ]
        }
      ]
    },
    {
      "cell_type": "code",
      "source": [
        "from fastcore.all import * \n",
        "from duckduckgo_search import ddg_images"
      ],
      "metadata": {
        "id": "Li8IIvmldkqm"
      },
      "execution_count": 3,
      "outputs": []
    },
    {
      "cell_type": "code",
      "source": [
        "def search_images(term,max_images=30):\n",
        "    print(f\"Searching for {term}\")\n",
        "    return L(ddg_images(term,max_results=max_images)).itemgot('image')\n"
      ],
      "metadata": {
        "id": "os2N_6mrgkRd"
      },
      "execution_count": 4,
      "outputs": []
    },
    {
      "cell_type": "code",
      "source": [
        "urls=search_images('birds photos',max_images=1)\n",
        "urls[0]"
      ],
      "metadata": {
        "colab": {
          "base_uri": "https://localhost:8080/",
          "height": 53
        },
        "id": "7keUe0-lhAk7",
        "outputId": "49bd85df-0dcc-4c30-d510-8a02c6e27b41"
      },
      "execution_count": 5,
      "outputs": [
        {
          "output_type": "stream",
          "name": "stdout",
          "text": [
            "Searching for birds photos\n"
          ]
        },
        {
          "output_type": "execute_result",
          "data": {
            "text/plain": [
              "'http://hdqwalls.com/download/1/colorful-parrot-bird.jpg'"
            ],
            "application/vnd.google.colaboratory.intrinsic+json": {
              "type": "string"
            }
          },
          "metadata": {},
          "execution_count": 5
        }
      ]
    },
    {
      "cell_type": "code",
      "source": [
        "from fastdownload import download_url \n",
        "\n",
        "dest='bird.jpg'\n",
        "download_url(url=urls[0],dest=dest,show_progress=False) \n",
        "\n",
        "from fastai.vision.all import * \n",
        "\n",
        "im=Image.open('bird.jpg')\n",
        "im.to_thumb(256,256)"
      ],
      "metadata": {
        "id": "WVky8UhNhMRh"
      },
      "execution_count": null,
      "outputs": []
    },
    {
      "cell_type": "code",
      "source": [
        "download_url(search_images('forest photos',max_images=1)[0], dest='forest.jpg',show_progress=False)\n",
        "\n",
        "im=Image.open('forest.jpg')\n",
        "im.to_thumb(256,256)"
      ],
      "metadata": {
        "id": "E9WEIZrnym6x"
      },
      "execution_count": null,
      "outputs": []
    },
    {
      "cell_type": "code",
      "source": [
        "searches='bird','forest'\n",
        "\n",
        "path=Path('bird_or_not')\n",
        "from time import sleep \n",
        "\n",
        "for o in searches:\n",
        "    dest=(path/o)\n",
        "    dest.mkdir(exist_ok=True,parents=True)\n",
        "    download_images(dest,urls=search_images(f'{o} photo'))\n",
        "    sleep(10)\n",
        "    download_images(dest,urls=search_images(f'{o} sun photo'))\n",
        "    sleep(10)\n",
        "    download_images(dest,urls=search_images(f'{o} shade photo'))\n",
        "    sleep(10)\n",
        "    resize_images(path/o , max_size=400, dest=path/o)\n",
        "    \n"
      ],
      "metadata": {
        "id": "Ofqgp5iRypwG"
      },
      "execution_count": null,
      "outputs": []
    },
    {
      "cell_type": "code",
      "source": [
        "failed=verify_images(get_image_files(path))\n",
        "failed.map(Path.unlink)\n",
        "len(failed)"
      ],
      "metadata": {
        "id": "YjA40EDd2vdd"
      },
      "execution_count": null,
      "outputs": []
    },
    {
      "cell_type": "code",
      "source": [
        "dls=DataBlock(\n",
        "    blocks=(ImageBlock,CategoryBlock),\n",
        "    get_items=get_image_files,\n",
        "    splitter=RandomSplitter(valid_pct=0.2),\n",
        "    get_y=parent_label,\n",
        "    item_tfms=[Resize(196,method='squish')]\n",
        ").dataloaders(path,bs=32)\n",
        "\n",
        "dls.show_batch(max_n=6)"
      ],
      "metadata": {
        "id": "9S1SnqFL2pn1"
      },
      "execution_count": null,
      "outputs": []
    },
    {
      "cell_type": "code",
      "source": [
        "learn=vision_learner(dls,resnet18,metrics=error_rate)\n",
        "learn.fine_tune(3)"
      ],
      "metadata": {
        "id": "ugUH1UM93iX2"
      },
      "execution_count": null,
      "outputs": []
    },
    {
      "cell_type": "code",
      "source": [
        "is_bird,_,probs=learn.predict(im)\n",
        "print(f\"Is it a bird: '{is_bird}'\")\n",
        "print(f'prob that it is bird: {probs:.4f}')"
      ],
      "metadata": {
        "id": "zuigbWnc3_Nm"
      },
      "execution_count": null,
      "outputs": []
    },
    {
      "cell_type": "code",
      "source": [
        "! cp /content/{name}.ipynb \"$(date +\"%Y_%m_%d_%I_%M_%p\").ipynb\""
      ],
      "metadata": {
        "id": "TJrFN92b4j2P"
      },
      "execution_count": null,
      "outputs": []
    }
  ]
}